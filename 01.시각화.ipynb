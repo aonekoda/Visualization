{
 "cells": [
  {
   "cell_type": "markdown",
   "id": "b1c01898",
   "metadata": {},
   "source": [
    "# 데이터 시각화가 필요한 이유\n",
    "\n",
    "* 앤스콤 4분할 데이터(anscombe' quartet)는 데이터 시각화의 중요성을 보여주는 전형적이 사례이다.\n",
    "* 영국의 프랭크 앤스콤이 데이터를 시각화 하지 않고 수치에만 의존할 때 발생하는 함정을 보여주기 위한 데이터 이다.\n",
    "* 해당 데이터는 4개의 그룹으로 구성되어 있으며 모든 데이터 그룹이 x, y 값을 가지고 있다. \n",
    "* 이 4개 그룹은 각각 평균, 분산, 상관관계, 회귀선이 같다는 특징이 있다.\n",
    "* 수치 결과만 보면 4개 그룹의 데이터가 서로 같을 것이라고 착각할 수 있다."
   ]
  },
  {
   "cell_type": "code",
   "execution_count": 1,
   "id": "fdcf0785",
   "metadata": {},
   "outputs": [
    {
     "data": {
      "text/html": [
       "<div>\n",
       "<style scoped>\n",
       "    .dataframe tbody tr th:only-of-type {\n",
       "        vertical-align: middle;\n",
       "    }\n",
       "\n",
       "    .dataframe tbody tr th {\n",
       "        vertical-align: top;\n",
       "    }\n",
       "\n",
       "    .dataframe thead th {\n",
       "        text-align: right;\n",
       "    }\n",
       "</style>\n",
       "<table border=\"1\" class=\"dataframe\">\n",
       "  <thead>\n",
       "    <tr style=\"text-align: right;\">\n",
       "      <th></th>\n",
       "      <th>dataset</th>\n",
       "      <th>x</th>\n",
       "      <th>y</th>\n",
       "    </tr>\n",
       "  </thead>\n",
       "  <tbody>\n",
       "    <tr>\n",
       "      <th>0</th>\n",
       "      <td>I</td>\n",
       "      <td>10.0</td>\n",
       "      <td>8.04</td>\n",
       "    </tr>\n",
       "    <tr>\n",
       "      <th>1</th>\n",
       "      <td>I</td>\n",
       "      <td>8.0</td>\n",
       "      <td>6.95</td>\n",
       "    </tr>\n",
       "    <tr>\n",
       "      <th>2</th>\n",
       "      <td>I</td>\n",
       "      <td>13.0</td>\n",
       "      <td>7.58</td>\n",
       "    </tr>\n",
       "    <tr>\n",
       "      <th>3</th>\n",
       "      <td>I</td>\n",
       "      <td>9.0</td>\n",
       "      <td>8.81</td>\n",
       "    </tr>\n",
       "    <tr>\n",
       "      <th>4</th>\n",
       "      <td>I</td>\n",
       "      <td>11.0</td>\n",
       "      <td>8.33</td>\n",
       "    </tr>\n",
       "  </tbody>\n",
       "</table>\n",
       "</div>"
      ],
      "text/plain": [
       "  dataset     x     y\n",
       "0       I  10.0  8.04\n",
       "1       I   8.0  6.95\n",
       "2       I  13.0  7.58\n",
       "3       I   9.0  8.81\n",
       "4       I  11.0  8.33"
      ]
     },
     "execution_count": 1,
     "metadata": {},
     "output_type": "execute_result"
    }
   ],
   "source": [
    "%matplotlib inline\n",
    "import matplotlib.pyplot as plt\n",
    "import pandas as pd\n",
    "\n",
    "anscombe = pd.read_csv(\"./data/anscombe.csv\")\n",
    "\n",
    "anscombe.head()"
   ]
  },
  {
   "cell_type": "markdown",
   "id": "2f435d78",
   "metadata": {},
   "source": [
    "**기술통계량을 확인해 보면 4개 그룹의 수치적 요약값이 같은 것을 알 수 있다.**"
   ]
  },
  {
   "cell_type": "code",
   "execution_count": 2,
   "id": "2eb4c105",
   "metadata": {},
   "outputs": [
    {
     "data": {
      "text/html": [
       "<div>\n",
       "<style scoped>\n",
       "    .dataframe tbody tr th:only-of-type {\n",
       "        vertical-align: middle;\n",
       "    }\n",
       "\n",
       "    .dataframe tbody tr th {\n",
       "        vertical-align: top;\n",
       "    }\n",
       "\n",
       "    .dataframe thead tr th {\n",
       "        text-align: left;\n",
       "    }\n",
       "\n",
       "    .dataframe thead tr:last-of-type th {\n",
       "        text-align: right;\n",
       "    }\n",
       "</style>\n",
       "<table border=\"1\" class=\"dataframe\">\n",
       "  <thead>\n",
       "    <tr>\n",
       "      <th></th>\n",
       "      <th colspan=\"2\" halign=\"left\">x</th>\n",
       "      <th colspan=\"2\" halign=\"left\">y</th>\n",
       "    </tr>\n",
       "    <tr>\n",
       "      <th></th>\n",
       "      <th>mean</th>\n",
       "      <th>std</th>\n",
       "      <th>mean</th>\n",
       "      <th>std</th>\n",
       "    </tr>\n",
       "    <tr>\n",
       "      <th>dataset</th>\n",
       "      <th></th>\n",
       "      <th></th>\n",
       "      <th></th>\n",
       "      <th></th>\n",
       "    </tr>\n",
       "  </thead>\n",
       "  <tbody>\n",
       "    <tr>\n",
       "      <th>I</th>\n",
       "      <td>9.0</td>\n",
       "      <td>3.316625</td>\n",
       "      <td>7.500909</td>\n",
       "      <td>2.031568</td>\n",
       "    </tr>\n",
       "    <tr>\n",
       "      <th>II</th>\n",
       "      <td>9.0</td>\n",
       "      <td>3.316625</td>\n",
       "      <td>7.500909</td>\n",
       "      <td>2.031657</td>\n",
       "    </tr>\n",
       "    <tr>\n",
       "      <th>III</th>\n",
       "      <td>9.0</td>\n",
       "      <td>3.316625</td>\n",
       "      <td>7.500000</td>\n",
       "      <td>2.030424</td>\n",
       "    </tr>\n",
       "    <tr>\n",
       "      <th>IV</th>\n",
       "      <td>9.0</td>\n",
       "      <td>3.316625</td>\n",
       "      <td>7.500909</td>\n",
       "      <td>2.030579</td>\n",
       "    </tr>\n",
       "  </tbody>\n",
       "</table>\n",
       "</div>"
      ],
      "text/plain": [
       "           x                   y          \n",
       "        mean       std      mean       std\n",
       "dataset                                   \n",
       "I        9.0  3.316625  7.500909  2.031568\n",
       "II       9.0  3.316625  7.500909  2.031657\n",
       "III      9.0  3.316625  7.500000  2.030424\n",
       "IV       9.0  3.316625  7.500909  2.030579"
      ]
     },
     "execution_count": 2,
     "metadata": {},
     "output_type": "execute_result"
    }
   ],
   "source": [
    "anscombe.groupby('dataset').agg(['mean','std'])"
   ]
  },
  {
   "cell_type": "markdown",
   "id": "a5efc79a",
   "metadata": {},
   "source": [
    "# 산점도로 시각화 해보기\n",
    "각 그룹을 비교하기 위한 시각화"
   ]
  },
  {
   "cell_type": "code",
   "execution_count": 3,
   "id": "b74fde16",
   "metadata": {},
   "outputs": [],
   "source": [
    "dataset1 = anscombe[anscombe['dataset']=='I']\n",
    "dataset2 = anscombe[anscombe['dataset']=='II']\n",
    "dataset3 = anscombe[anscombe['dataset']=='III']\n",
    "dataset4 = anscombe[anscombe['dataset']=='IV']"
   ]
  },
  {
   "cell_type": "code",
   "execution_count": 4,
   "id": "62070a4e",
   "metadata": {},
   "outputs": [
    {
     "data": {
      "image/png": "[encoded data removed]",
      "text/plain": [
       "<Figure size 432x288 with 4 Axes>"
      ]
     },
     "metadata": {
      "needs_background": "light"
     },
     "output_type": "display_data"
    }
   ],
   "source": [
    "fig = plt.figure()\n",
    "ax1 = fig.add_subplot(2,2,1)\n",
    "ax2 = fig.add_subplot(2,2,2)\n",
    "ax3 = fig.add_subplot(2,2,3)\n",
    "ax4 = fig.add_subplot(2,2,4)\n",
    "\n",
    "ax1.plot(dataset1['x'], dataset1['y'], 'o'); ax1.set_title('dataset1')\n",
    "ax2.plot(dataset2['x'], dataset2['y'], 'o'); ax2.set_title('dataset2')\n",
    "ax3.plot(dataset3['x'], dataset3['y'], 'o'); ax3.set_title('dataset3')\n",
    "ax4.plot(dataset4['x'], dataset4['y'], 'o'); ax4.set_title('dataset4')\n",
    "\n",
    "fig.tight_layout()\n",
    "plt.show()"
   ]
  },
  {
   "cell_type": "markdown",
   "id": "a97040c3",
   "metadata": {},
   "source": [
    "* 평균, 분산, 상관관계 등의 통계적 수치가 같아도 그래프의 형태는 다를 수 있다.\n",
    "* 데이터 분석시 수치에만 의존하면 잘못된 판단을 할 수 있다."
   ]
  },
  {
   "cell_type": "code",
   "execution_count": null,
   "id": "bcda0c11",
   "metadata": {},
   "outputs": [],
   "source": []
  }
 ],
 "metadata": {
  "kernelspec": {
   "display_name": "Python 3",
   "language": "python",
   "name": "python3"
  },
  "language_info": {
   "codemirror_mode": {
    "name": "ipython",
    "version": 3
   },
   "file_extension": ".py",
   "mimetype": "text/x-python",
   "name": "python",
   "nbconvert_exporter": "python",
   "pygments_lexer": "ipython3",
   "version": "3.8.8"
  }
 },
 "nbformat": 4,
 "nbformat_minor": 5
}
