{
 "cells": [
  {
   "cell_type": "markdown",
   "id": "d09084f1",
   "metadata": {},
   "source": [
    "# 비율 데이터의 시각화\n",
    "\n",
    "각 부분의 비율을 그래프 상의 면적으로 나타낼 수 있다. "
   ]
  },
  {
   "cell_type": "code",
   "execution_count": 1,
   "id": "2768f25e",
   "metadata": {},
   "outputs": [],
   "source": [
    "import matplotlib.pyplot as plt"
   ]
  },
  {
   "cell_type": "markdown",
   "id": "2c21def2",
   "metadata": {},
   "source": [
    "## pie 차트\n",
    "\n",
    "pie 차트는 각 범주가 데이터에서 차지하는 비율을 나타내는 데 자주 사용된다.\n"
   ]
  },
  {
   "cell_type": "code",
   "execution_count": 2,
   "id": "c9a22bcc",
   "metadata": {},
   "outputs": [],
   "source": [
    "# Pie chart, where the slices will be ordered and plotted counter-clockwise:\n",
    "labels = ['Frogs', 'Hogs', 'Dogs', 'Logs']\n",
    "sizes = [15, 30, 45, 10]"
   ]
  },
  {
   "cell_type": "code",
   "execution_count": 3,
   "id": "0e0e6325",
   "metadata": {},
   "outputs": [
    {
     "data": {
      "image/png": "[encoded data removed]",
      "text/plain": [
       "<Figure size 432x288 with 1 Axes>"
      ]
     },
     "metadata": {},
     "output_type": "display_data"
    }
   ],
   "source": [
    "plt.pie(sizes, labels=labels, autopct='%1.1f%%', startangle=90)\n",
    "\n",
    "plt.show()"
   ]
  },
  {
   "cell_type": "code",
   "execution_count": 4,
   "id": "9432a332",
   "metadata": {},
   "outputs": [
    {
     "data": {
      "image/png": "[encoded data removed]",
      "text/plain": [
       "<Figure size 432x288 with 1 Axes>"
      ]
     },
     "metadata": {},
     "output_type": "display_data"
    }
   ],
   "source": [
    "company = ['A','B','C','D','E']\n",
    "market_share = [20,18,22,23,17]\n",
    "\n",
    "plt.pie(market_share, labels=company, autopct='%1.1f%%', startangle=90)\n",
    "plt.show()"
   ]
  },
  {
   "cell_type": "markdown",
   "id": "51f9d3e6",
   "metadata": {},
   "source": [
    "파이 차트는 가독성이 떨어진다. 비율이 엇비슷한 경우 그 차이를 정확하게 표현 할 수 없다. 라벨을 추가하면 도움이 된다.  \n"
   ]
  },
  {
   "cell_type": "markdown",
   "id": "2ed4f131",
   "metadata": {},
   "source": [
    "## 막대 그래프로 비율을 표시\n",
    "비율을 시각화하기 위해서 누적 막대 그래프 또는 막대 그래프를 쓰는 것이 더 효과적인 경우가 많다. "
   ]
  },
  {
   "cell_type": "code",
   "execution_count": 5,
   "id": "76022984",
   "metadata": {},
   "outputs": [
    {
     "data": {
      "image/png": "[encoded data removed]",
      "text/plain": [
       "<Figure size 432x288 with 1 Axes>"
      ]
     },
     "metadata": {
      "needs_background": "light"
     },
     "output_type": "display_data"
    }
   ],
   "source": [
    "ax = plt.barh(company, market_share)\n",
    "for p in ax.patches:\n",
    "    x,y,h,w = p.get_bbox().bounds\n",
    "    plt.annotate(\"%.1f\"%h, (h+1,y+w/2), ha='center' )\n",
    "plt.show()"
   ]
  },
  {
   "cell_type": "code",
   "execution_count": 6,
   "id": "183435d2",
   "metadata": {},
   "outputs": [],
   "source": [
    "import pandas as pd\n",
    "import numpy as np\n",
    "import seaborn as sns"
   ]
  },
  {
   "cell_type": "code",
   "execution_count": 7,
   "id": "08fcf3b0",
   "metadata": {},
   "outputs": [
    {
     "data": {
      "text/html": [
       "<div>\n",
       "<style scoped>\n",
       "    .dataframe tbody tr th:only-of-type {\n",
       "        vertical-align: middle;\n",
       "    }\n",
       "\n",
       "    .dataframe tbody tr th {\n",
       "        vertical-align: top;\n",
       "    }\n",
       "\n",
       "    .dataframe thead th {\n",
       "        text-align: right;\n",
       "    }\n",
       "</style>\n",
       "<table border=\"1\" class=\"dataframe\">\n",
       "  <thead>\n",
       "    <tr style=\"text-align: right;\">\n",
       "      <th></th>\n",
       "      <th>year</th>\n",
       "      <th>company</th>\n",
       "      <th>share</th>\n",
       "    </tr>\n",
       "  </thead>\n",
       "  <tbody>\n",
       "    <tr>\n",
       "      <th>0</th>\n",
       "      <td>2015</td>\n",
       "      <td>A</td>\n",
       "      <td>20</td>\n",
       "    </tr>\n",
       "    <tr>\n",
       "      <th>1</th>\n",
       "      <td>2015</td>\n",
       "      <td>B</td>\n",
       "      <td>18</td>\n",
       "    </tr>\n",
       "    <tr>\n",
       "      <th>2</th>\n",
       "      <td>2015</td>\n",
       "      <td>C</td>\n",
       "      <td>22</td>\n",
       "    </tr>\n",
       "    <tr>\n",
       "      <th>3</th>\n",
       "      <td>2015</td>\n",
       "      <td>D</td>\n",
       "      <td>23</td>\n",
       "    </tr>\n",
       "    <tr>\n",
       "      <th>4</th>\n",
       "      <td>2015</td>\n",
       "      <td>E</td>\n",
       "      <td>17</td>\n",
       "    </tr>\n",
       "    <tr>\n",
       "      <th>5</th>\n",
       "      <td>2016</td>\n",
       "      <td>A</td>\n",
       "      <td>18</td>\n",
       "    </tr>\n",
       "    <tr>\n",
       "      <th>6</th>\n",
       "      <td>2016</td>\n",
       "      <td>B</td>\n",
       "      <td>22</td>\n",
       "    </tr>\n",
       "    <tr>\n",
       "      <th>7</th>\n",
       "      <td>2016</td>\n",
       "      <td>C</td>\n",
       "      <td>23</td>\n",
       "    </tr>\n",
       "    <tr>\n",
       "      <th>8</th>\n",
       "      <td>2016</td>\n",
       "      <td>D</td>\n",
       "      <td>17</td>\n",
       "    </tr>\n",
       "    <tr>\n",
       "      <th>9</th>\n",
       "      <td>2016</td>\n",
       "      <td>E</td>\n",
       "      <td>20</td>\n",
       "    </tr>\n",
       "    <tr>\n",
       "      <th>10</th>\n",
       "      <td>2017</td>\n",
       "      <td>A</td>\n",
       "      <td>22</td>\n",
       "    </tr>\n",
       "    <tr>\n",
       "      <th>11</th>\n",
       "      <td>2017</td>\n",
       "      <td>B</td>\n",
       "      <td>23</td>\n",
       "    </tr>\n",
       "    <tr>\n",
       "      <th>12</th>\n",
       "      <td>2017</td>\n",
       "      <td>C</td>\n",
       "      <td>17</td>\n",
       "    </tr>\n",
       "    <tr>\n",
       "      <th>13</th>\n",
       "      <td>2017</td>\n",
       "      <td>D</td>\n",
       "      <td>20</td>\n",
       "    </tr>\n",
       "    <tr>\n",
       "      <th>14</th>\n",
       "      <td>2017</td>\n",
       "      <td>E</td>\n",
       "      <td>18</td>\n",
       "    </tr>\n",
       "  </tbody>\n",
       "</table>\n",
       "</div>"
      ],
      "text/plain": [
       "    year company  share\n",
       "0   2015       A     20\n",
       "1   2015       B     18\n",
       "2   2015       C     22\n",
       "3   2015       D     23\n",
       "4   2015       E     17\n",
       "5   2016       A     18\n",
       "6   2016       B     22\n",
       "7   2016       C     23\n",
       "8   2016       D     17\n",
       "9   2016       E     20\n",
       "10  2017       A     22\n",
       "11  2017       B     23\n",
       "12  2017       C     17\n",
       "13  2017       D     20\n",
       "14  2017       E     18"
      ]
     },
     "execution_count": 7,
     "metadata": {},
     "output_type": "execute_result"
    }
   ],
   "source": [
    "year = ['2015']*5 + ['2016']*5 + ['2017']*5\n",
    "company = ['A','B','C','D','E']*3\n",
    "share = [20,18,22,23,17]+[18,22,23,17,20]+[22,23,17,20,18]\n",
    "\n",
    "df = pd.DataFrame({'year':year, 'company':company, 'share':share})\n",
    "df"
   ]
  },
  {
   "cell_type": "code",
   "execution_count": 8,
   "id": "162c4c22",
   "metadata": {},
   "outputs": [
    {
     "data": {
      "text/plain": [
       "<AxesSubplot:xlabel='year', ylabel='share'>"
      ]
     },
     "execution_count": 8,
     "metadata": {},
     "output_type": "execute_result"
    },
    {
     "data": {
      "image/png": "[encoded data removed]",
      "text/plain": [
       "<Figure size 432x288 with 1 Axes>"
      ]
     },
     "metadata": {
      "needs_background": "light"
     },
     "output_type": "display_data"
    }
   ],
   "source": [
    "# seaborn으로 막대그래프 표시\n",
    "sns.barplot(x='year',y='share', hue='company', data=df)"
   ]
  },
  {
   "cell_type": "code",
   "execution_count": 9,
   "id": "95e25af3",
   "metadata": {},
   "outputs": [
    {
     "data": {
      "text/html": [
       "<div>\n",
       "<style scoped>\n",
       "    .dataframe tbody tr th:only-of-type {\n",
       "        vertical-align: middle;\n",
       "    }\n",
       "\n",
       "    .dataframe tbody tr th {\n",
       "        vertical-align: top;\n",
       "    }\n",
       "\n",
       "    .dataframe thead tr th {\n",
       "        text-align: left;\n",
       "    }\n",
       "\n",
       "    .dataframe thead tr:last-of-type th {\n",
       "        text-align: right;\n",
       "    }\n",
       "</style>\n",
       "<table border=\"1\" class=\"dataframe\">\n",
       "  <thead>\n",
       "    <tr>\n",
       "      <th></th>\n",
       "      <th colspan=\"5\" halign=\"left\">share</th>\n",
       "    </tr>\n",
       "    <tr>\n",
       "      <th>company</th>\n",
       "      <th>A</th>\n",
       "      <th>B</th>\n",
       "      <th>C</th>\n",
       "      <th>D</th>\n",
       "      <th>E</th>\n",
       "    </tr>\n",
       "    <tr>\n",
       "      <th>year</th>\n",
       "      <th></th>\n",
       "      <th></th>\n",
       "      <th></th>\n",
       "      <th></th>\n",
       "      <th></th>\n",
       "    </tr>\n",
       "  </thead>\n",
       "  <tbody>\n",
       "    <tr>\n",
       "      <th>2015</th>\n",
       "      <td>20</td>\n",
       "      <td>18</td>\n",
       "      <td>22</td>\n",
       "      <td>23</td>\n",
       "      <td>17</td>\n",
       "    </tr>\n",
       "    <tr>\n",
       "      <th>2016</th>\n",
       "      <td>18</td>\n",
       "      <td>22</td>\n",
       "      <td>23</td>\n",
       "      <td>17</td>\n",
       "      <td>20</td>\n",
       "    </tr>\n",
       "    <tr>\n",
       "      <th>2017</th>\n",
       "      <td>22</td>\n",
       "      <td>23</td>\n",
       "      <td>17</td>\n",
       "      <td>20</td>\n",
       "      <td>18</td>\n",
       "    </tr>\n",
       "  </tbody>\n",
       "</table>\n",
       "</div>"
      ],
      "text/plain": [
       "        share                \n",
       "company     A   B   C   D   E\n",
       "year                         \n",
       "2015       20  18  22  23  17\n",
       "2016       18  22  23  17  20\n",
       "2017       22  23  17  20  18"
      ]
     },
     "execution_count": 9,
     "metadata": {},
     "output_type": "execute_result"
    }
   ],
   "source": [
    "df1 = df.groupby(['year','company']).sum().unstack().fillna(0)\n",
    "df1"
   ]
  },
  {
   "cell_type": "code",
   "execution_count": 10,
   "id": "b4513489",
   "metadata": {},
   "outputs": [
    {
     "data": {
      "image/png": "[encoded data removed]",
      "text/plain": [
       "<Figure size 432x288 with 1 Axes>"
      ]
     },
     "metadata": {
      "needs_background": "light"
     },
     "output_type": "display_data"
    }
   ],
   "source": [
    "# 판다스 막대 그래프\n",
    "df1.plot(kind='bar',rot=0)\n",
    "plt.ylabel('market share')\n",
    "plt.legend(df1.columns.levels[1])\n",
    "plt.show()"
   ]
  },
  {
   "cell_type": "markdown",
   "id": "249a6b4b",
   "metadata": {},
   "source": [
    "### 누적 막대 그래프"
   ]
  },
  {
   "cell_type": "code",
   "execution_count": 11,
   "id": "dd033407",
   "metadata": {},
   "outputs": [
    {
     "data": {
      "image/png": "[encoded data removed]",
      "text/plain": [
       "<Figure size 432x288 with 1 Axes>"
      ]
     },
     "metadata": {
      "needs_background": "light"
     },
     "output_type": "display_data"
    }
   ],
   "source": [
    "# 판다스 누적 막대 그래프\n",
    "df1.plot(kind='bar',rot=0, stacked=True)\n",
    "plt.ylabel('market share')\n",
    "plt.legend(df1.columns.levels[1])\n",
    "plt.show()"
   ]
  },
  {
   "cell_type": "code",
   "execution_count": 12,
   "id": "47349c88",
   "metadata": {},
   "outputs": [],
   "source": [
    "# matplotlib로 누적 막대 그래프 표시하기\n",
    "A = df[df.company=='A'].share.values\n",
    "B = df[df.company=='B'].share.values\n",
    "C = df[df.company=='C'].share.values\n",
    "D = df[df.company=='D'].share.values\n",
    "E = df[df.company=='E'].share.values"
   ]
  },
  {
   "cell_type": "code",
   "execution_count": 13,
   "id": "400c42a4",
   "metadata": {},
   "outputs": [],
   "source": [
    "c_bottom = A + B\n",
    "d_bottom = c_bottom + C\n",
    "e_bottom = d_bottom + D"
   ]
  },
  {
   "cell_type": "code",
   "execution_count": 14,
   "id": "26901625",
   "metadata": {},
   "outputs": [
    {
     "data": {
      "text/plain": [
       "<matplotlib.legend.Legend at 0x25cdf65b850>"
      ]
     },
     "execution_count": 14,
     "metadata": {},
     "output_type": "execute_result"
    },
    {
     "data": {
      "image/png": "[encoded data removed]",
      "text/plain": [
       "<Figure size 432x288 with 1 Axes>"
      ]
     },
     "metadata": {
      "needs_background": "light"
     },
     "output_type": "display_data"
    }
   ],
   "source": [
    "x = df1.index\n",
    "plt.bar(x, A, label= 'A')\n",
    "plt.bar(x, B, bottom=A, label= 'B')\n",
    "plt.bar(x, C, bottom=c_bottom, label= 'C')\n",
    "plt.bar(x, D, bottom=d_bottom,label= 'D')\n",
    "plt.bar(x, E, bottom=e_bottom, label= 'E')\n",
    "\n",
    "plt.xlabel('year')\n",
    "plt.ylabel('market share')\n",
    "plt.legend()"
   ]
  },
  {
   "cell_type": "markdown",
   "id": "a881cc7f",
   "metadata": {},
   "source": [
    "같은 년도 안에서 상대적인 시장 점유율을 비교하기 어렵다. 연도별 시장 점유율의 변동 추이를 파악하기 어렵다.\n",
    " \n",
    "\n",
    "파이, 누적, 병렬 막대 3가지 중 어느 것이 절대적으로 좋다고 말할 수 없다. 상황과 주제에 맞추어 사용하면 된다. "
   ]
  },
  {
   "cell_type": "markdown",
   "id": "56409586",
   "metadata": {},
   "source": [
    "# 비율 시각화 실습 - 막대, 파이\n",
    "\n",
    "1. 타이타닉 데이터 셋을 읽어들인다.\n",
    "```\n",
    "titanic = pd.read_csv('./data/titanic.csv')\n",
    "titanic.info()\n",
    "```\n",
    "2. 남여 성별 생존율을 막대 그래프로 시각화 하시오.\n",
    "3. 남여 성별 생존율을 파이 차트로 시각화 하시오."
   ]
  },
  {
   "cell_type": "code",
   "execution_count": null,
   "id": "a918ceb1",
   "metadata": {},
   "outputs": [],
   "source": []
  }
 ],
 "metadata": {
  "kernelspec": {
   "display_name": "Python 3",
   "language": "python",
   "name": "python3"
  },
  "language_info": {
   "codemirror_mode": {
    "name": "ipython",
    "version": 3
   },
   "file_extension": ".py",
   "mimetype": "text/x-python",
   "name": "python",
   "nbconvert_exporter": "python",
   "pygments_lexer": "ipython3",
   "version": "3.8.8"
  }
 },
 "nbformat": 4,
 "nbformat_minor": 5
}
