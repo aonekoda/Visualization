{
 "cells": [
  {
   "cell_type": "markdown",
   "id": "c1b61a86",
   "metadata": {},
   "source": [
    "# 막대 그래프 bar chart\n",
    "\n",
    "막대 그래프(-graph), 바 차트(bar chart), 바 그래프(bar graph)는 표현 값에 비례하여 높이와 길이를 지닌 직사각형 막대로 범주형 데이터를 표현하는 차트나 그래프를 말한다. 막대는 수직으로나 수평으로 그릴 수 있다. \n",
    "\n",
    "수량의 크고 작음을 막대의 길이로 표현하기 때문에 내용을 이해하기 쉽다.\n"
   ]
  },
  {
   "cell_type": "code",
   "execution_count": 1,
   "id": "e8ee9d03",
   "metadata": {
    "id": "e8ee9d03"
   },
   "outputs": [],
   "source": [
    "import pandas as pd\n",
    "import matplotlib.pyplot as plt\n",
    "import seaborn as sns"
   ]
  },
  {
   "cell_type": "code",
   "execution_count": 2,
   "id": "0c757903",
   "metadata": {
    "id": "0c757903",
    "outputId": "95aef94d-7832-4f00-c79c-86d983308256"
   },
   "outputs": [
    {
     "name": "stdout",
     "output_type": "stream",
     "text": [
      "<class 'pandas.core.frame.DataFrame'>\n",
      "RangeIndex: 244 entries, 0 to 243\n",
      "Data columns (total 7 columns):\n",
      " #   Column      Non-Null Count  Dtype   \n",
      "---  ------      --------------  -----   \n",
      " 0   total_bill  244 non-null    float64 \n",
      " 1   tip         244 non-null    float64 \n",
      " 2   sex         244 non-null    category\n",
      " 3   smoker      244 non-null    category\n",
      " 4   day         244 non-null    category\n",
      " 5   time        244 non-null    category\n",
      " 6   size        244 non-null    int64   \n",
      "dtypes: category(4), float64(2), int64(1)\n",
      "memory usage: 7.0 KB\n"
     ]
    }
   ],
   "source": [
    "tips = pd.read_csv(\"./data/tips.csv\", \n",
    "                   dtype={'sex':'category','smoker':'category','day':'category', 'time':'category'})\n",
    "tips.info()"
   ]
  },
  {
   "cell_type": "code",
   "execution_count": 3,
   "id": "4a4b307f",
   "metadata": {},
   "outputs": [],
   "source": [
    "tips.day = tips.day.cat.set_categories(['Thur','Fri','Sat','Sun'])\n",
    "tips.time = tips.time.cat.set_categories(['Lunch','Dinner'])"
   ]
  },
  {
   "cell_type": "markdown",
   "id": "86f2a559",
   "metadata": {},
   "source": [
    "## Matplotlib 막대 그래프 그리기"
   ]
  },
  {
   "cell_type": "code",
   "execution_count": 4,
   "id": "d3733ac0",
   "metadata": {},
   "outputs": [
    {
     "data": {
      "text/plain": [
       "day\n",
       "Fri      51.96\n",
       "Thur    171.83\n",
       "Sun     247.39\n",
       "Sat     260.40\n",
       "Name: tip, dtype: float64"
      ]
     },
     "execution_count": 4,
     "metadata": {},
     "output_type": "execute_result"
    }
   ],
   "source": [
    "import numpy as np\n",
    "\n",
    "tips_sum_by_day = tips.groupby('day').tip.sum().sort_values()  # 막대그래프를 크기 순서로 정렬\n",
    "tips_sum_by_day"
   ]
  },
  {
   "cell_type": "code",
   "execution_count": 5,
   "id": "d1e85fa7",
   "metadata": {},
   "outputs": [
    {
     "data": {
      "image/png": "[encoded data removed]",
      "text/plain": [
       "<Figure size 432x288 with 1 Axes>"
      ]
     },
     "metadata": {
      "needs_background": "light"
     },
     "output_type": "display_data"
    }
   ],
   "source": [
    "label = tips_sum_by_day.index\n",
    "index = np.arange(len(label))\n",
    "\n",
    "plt.bar(label, tips_sum_by_day)\n",
    "\n",
    "plt.show()"
   ]
  },
  {
   "cell_type": "markdown",
   "id": "c7d9ed33",
   "metadata": {},
   "source": [
    "**옆으로 누운 막대그래프는 plt.barh() 함수를 사용**"
   ]
  },
  {
   "cell_type": "code",
   "execution_count": 6,
   "id": "cef09d2a",
   "metadata": {
    "scrolled": true
   },
   "outputs": [
    {
     "data": {
      "image/png": "[encoded data removed]",
      "text/plain": [
       "<Figure size 432x288 with 1 Axes>"
      ]
     },
     "metadata": {
      "needs_background": "light"
     },
     "output_type": "display_data"
    }
   ],
   "source": [
    "plt.barh(index, tips_sum_by_day)\n",
    "plt.title('Sum of Tips by Day', fontsize=18)\n",
    "plt.ylabel('Day', fontsize=15)\n",
    "plt.xlabel('Sum of Tips', fontsize=15)\n",
    "plt.yticks(index, label, fontsize=13, rotation=0)\n",
    "plt.show()"
   ]
  },
  {
   "cell_type": "markdown",
   "id": "71b2b187",
   "metadata": {},
   "source": [
    "### 그룹으로 나누어 비교하는 막대그래프\n",
    "성별(sex)에 따라 요일별 tip의 평균을 비교한다."
   ]
  },
  {
   "cell_type": "code",
   "execution_count": 7,
   "id": "6a3ff4fb",
   "metadata": {},
   "outputs": [],
   "source": [
    "tips_mean_by_day_male = tips[tips['sex'] == 'Male'].groupby('day').tip.mean()\n",
    "tips_mean_by_day_female = tips[tips['sex'] == 'Female'].groupby('day').tip.mean()"
   ]
  },
  {
   "cell_type": "code",
   "execution_count": 8,
   "id": "90e86f70",
   "metadata": {},
   "outputs": [
    {
     "data": {
      "image/png": "[encoded data removed]",
      "text/plain": [
       "<Figure size 432x288 with 1 Axes>"
      ]
     },
     "metadata": {
      "needs_background": "light"
     },
     "output_type": "display_data"
    }
   ],
   "source": [
    "label = tips_mean_by_day_male.index\n",
    "index = np.arange(len(label))\n",
    "\n",
    "plt.bar(index, tips_mean_by_day_male, width=0.4, label='Male')\n",
    "plt.bar(index+0.5, tips_mean_by_day_female, width=0.4, label='Female')\n",
    "\n",
    "plt.xticks(index, label)\n",
    "plt.legend()\n",
    "plt.show()"
   ]
  },
  {
   "cell_type": "markdown",
   "id": "90aa08ff",
   "metadata": {},
   "source": [
    "### 누적막대그래프로 표시하기"
   ]
  },
  {
   "cell_type": "code",
   "execution_count": 9,
   "id": "e2f17fde",
   "metadata": {},
   "outputs": [
    {
     "data": {
      "image/png": "[encoded data removed]",
      "text/plain": [
       "<Figure size 432x288 with 1 Axes>"
      ]
     },
     "metadata": {
      "needs_background": "light"
     },
     "output_type": "display_data"
    }
   ],
   "source": [
    "# summary by group\n",
    "\n",
    "p1 = plt.bar(index, tips_mean_by_day_male, color='b', alpha=0.5, label='Male')\n",
    "p2 = plt.bar(index, tips_mean_by_day_female, color='r', alpha=0.5,\n",
    "             bottom=tips_mean_by_day_male, label='Female')\n",
    "\n",
    "plt.xticks(index, label)\n",
    "plt.legend()\n",
    "plt.show()"
   ]
  },
  {
   "cell_type": "markdown",
   "id": "6ec66607",
   "metadata": {
    "id": "6ec66607"
   },
   "source": [
    "### pandas - 누적 막대 그래프"
   ]
  },
  {
   "cell_type": "code",
   "execution_count": 10,
   "id": "417a5b57",
   "metadata": {
    "colab": {
     "base_uri": "https://localhost:8080/",
     "height": 137
    },
    "id": "417a5b57",
    "outputId": "2c23190a-fbc3-43b0-8742-6083abfb4892"
   },
   "outputs": [
    {
     "data": {
      "text/html": [
       "<div>\n",
       "<style scoped>\n",
       "    .dataframe tbody tr th:only-of-type {\n",
       "        vertical-align: middle;\n",
       "    }\n",
       "\n",
       "    .dataframe tbody tr th {\n",
       "        vertical-align: top;\n",
       "    }\n",
       "\n",
       "    .dataframe thead th {\n",
       "        text-align: right;\n",
       "    }\n",
       "</style>\n",
       "<table border=\"1\" class=\"dataframe\">\n",
       "  <thead>\n",
       "    <tr style=\"text-align: right;\">\n",
       "      <th>day</th>\n",
       "      <th>Thur</th>\n",
       "      <th>Fri</th>\n",
       "      <th>Sat</th>\n",
       "      <th>Sun</th>\n",
       "    </tr>\n",
       "    <tr>\n",
       "      <th>time</th>\n",
       "      <th></th>\n",
       "      <th></th>\n",
       "      <th></th>\n",
       "      <th></th>\n",
       "    </tr>\n",
       "  </thead>\n",
       "  <tbody>\n",
       "    <tr>\n",
       "      <th>Lunch</th>\n",
       "      <td>168.83</td>\n",
       "      <td>16.68</td>\n",
       "      <td>0.0</td>\n",
       "      <td>0.00</td>\n",
       "    </tr>\n",
       "    <tr>\n",
       "      <th>Dinner</th>\n",
       "      <td>3.00</td>\n",
       "      <td>35.28</td>\n",
       "      <td>260.4</td>\n",
       "      <td>247.39</td>\n",
       "    </tr>\n",
       "  </tbody>\n",
       "</table>\n",
       "</div>"
      ],
      "text/plain": [
       "day       Thur    Fri    Sat     Sun\n",
       "time                                \n",
       "Lunch   168.83  16.68    0.0    0.00\n",
       "Dinner    3.00  35.28  260.4  247.39"
      ]
     },
     "execution_count": 10,
     "metadata": {},
     "output_type": "execute_result"
    }
   ],
   "source": [
    "df = pd.pivot_table(tips, \n",
    "                    index=\"time\", \n",
    "                    columns=\"day\", \n",
    "                    values=\"tip\", \n",
    "                    aggfunc=\"sum\")\n",
    "df"
   ]
  },
  {
   "cell_type": "code",
   "execution_count": 11,
   "id": "69633ccd",
   "metadata": {
    "colab": {
     "base_uri": "https://localhost:8080/",
     "height": 320
    },
    "id": "69633ccd",
    "outputId": "74def10f-e817-4bd5-da38-7549605761e4",
    "scrolled": true
   },
   "outputs": [
    {
     "data": {
      "text/plain": [
       "<AxesSubplot:xlabel='time'>"
      ]
     },
     "execution_count": 11,
     "metadata": {},
     "output_type": "execute_result"
    },
    {
     "data": {
      "image/png": "[encoded data removed]",
      "text/plain": [
       "<Figure size 432x288 with 1 Axes>"
      ]
     },
     "metadata": {
      "needs_background": "light"
     },
     "output_type": "display_data"
    }
   ],
   "source": [
    "df.plot.bar(stacked=True)"
   ]
  },
  {
   "cell_type": "markdown",
   "id": "2bbe5aa4",
   "metadata": {
    "id": "2bbe5aa4"
   },
   "source": [
    "## seaborn 으로 막대 그래프 그리기\n",
    "\n",
    "### sns.countplot\n",
    "각 카테고리 값별로 데이터의 개수(count)를 표시할 수 있다.\n"
   ]
  },
  {
   "cell_type": "code",
   "execution_count": 12,
   "id": "3ca836ad",
   "metadata": {
    "id": "3ca836ad",
    "outputId": "1d71f965-ded0-421a-fa66-15bf10e251c0"
   },
   "outputs": [
    {
     "data": {
      "image/png": "[encoded data removed]",
      "text/plain": [
       "<Figure size 432x288 with 1 Axes>"
      ]
     },
     "metadata": {
      "needs_background": "light"
     },
     "output_type": "display_data"
    }
   ],
   "source": [
    "# 요일별 데이터 빈도\n",
    "sns.countplot(x = 'day', data=tips)\n",
    "plt.title('Seaborn count plot')\n",
    "plt.show()"
   ]
  },
  {
   "cell_type": "code",
   "execution_count": 13,
   "id": "4ac8b067",
   "metadata": {
    "id": "4ac8b067",
    "outputId": "6a29d143-ed03-4004-93b9-7b48bc35c659"
   },
   "outputs": [
    {
     "data": {
      "image/png": "[encoded data removed]",
      "text/plain": [
       "<Figure size 432x288 with 1 Axes>"
      ]
     },
     "metadata": {
      "needs_background": "light"
     },
     "output_type": "display_data"
    }
   ],
   "source": [
    "# 요일별 성별 데이터 빈도\n",
    "sns.countplot(x = 'day', hue='sex', data=tips)\n",
    "plt.title('Seaborn count plot')\n",
    "plt.show()"
   ]
  },
  {
   "cell_type": "code",
   "execution_count": 14,
   "id": "dd9fdfa3",
   "metadata": {
    "id": "dd9fdfa3",
    "outputId": "faa8c703-63ff-48b1-ac77-3419872ae7f7"
   },
   "outputs": [
    {
     "data": {
      "image/png": "[encoded data removed]",
      "text/plain": [
       "<Figure size 432x288 with 1 Axes>"
      ]
     },
     "metadata": {
      "needs_background": "light"
     },
     "output_type": "display_data"
    }
   ],
   "source": [
    "# 요일별 성별 데이터 빈도 - 수평막대그래프\n",
    "sns.countplot(y = 'day', hue='sex', data=tips)\n",
    "plt.title('Seaborn count plot')\n",
    "plt.show()"
   ]
  },
  {
   "cell_type": "code",
   "execution_count": 15,
   "id": "10eef060",
   "metadata": {
    "id": "10eef060",
    "outputId": "4aaa949b-7e9d-442a-b10a-209c62317947"
   },
   "outputs": [
    {
     "data": {
      "image/png": "[encoded data removed]",
      "text/plain": [
       "<Figure size 432x288 with 1 Axes>"
      ]
     },
     "metadata": {
      "needs_background": "light"
     },
     "output_type": "display_data"
    }
   ],
   "source": [
    "# 요일별 성별 데이터 빈도 - 정렬 순서\n",
    "sns.countplot(x = 'day', hue='sex', data=tips, order=['Thur', 'Fri','Sat','Sun'])\n",
    "plt.title('Seaborn count plot')\n",
    "plt.show()"
   ]
  },
  {
   "cell_type": "markdown",
   "id": "1387e01a",
   "metadata": {
    "id": "1387e01a"
   },
   "source": [
    "### sns.barplot\n",
    " 카테고리 값에 따른 평균과 편차를 표시하는 기본적인 바 차트를 생성한다. 평균은 막대의 높이로, 편차는 에러바(error bar)로 표시한다.\n",
    "* estimator : y축에 표시할 통계량을 지정, 기본 평균(mean)\n",
    "* ci : 신뢰구간의 신뢰수준을 지정, 기본 95"
   ]
  },
  {
   "cell_type": "code",
   "execution_count": 16,
   "id": "aea9c34d",
   "metadata": {
    "id": "aea9c34d",
    "outputId": "5f44cc85-2f6a-4e70-8e45-4bd17d388bb5"
   },
   "outputs": [
    {
     "data": {
      "image/png": "[encoded data removed]",
      "text/plain": [
       "<Figure size 432x288 with 1 Axes>"
      ]
     },
     "metadata": {
      "needs_background": "light"
     },
     "output_type": "display_data"
    }
   ],
   "source": [
    "# 요일별 성별에 따른 total bill의 평균을 막대 그래프로\n",
    "sns.barplot(x=\"day\", y=\"tip\", hue=\"sex\", data=tips, order=['Thur', 'Fri','Sat','Sun'])\n",
    "plt.show()"
   ]
  },
  {
   "cell_type": "code",
   "execution_count": 17,
   "id": "924fe3e6",
   "metadata": {
    "id": "924fe3e6",
    "outputId": "b03fd44e-93a6-4ed0-e133-889912f0997b"
   },
   "outputs": [
    {
     "data": {
      "image/png": "[encoded data removed]",
      "text/plain": [
       "<Figure size 432x288 with 1 Axes>"
      ]
     },
     "metadata": {
      "needs_background": "light"
     },
     "output_type": "display_data"
    }
   ],
   "source": [
    "sns.barplot(x=\"day\", y=\"tip\", hue=\"sex\", data=tips, estimator=sum)\n",
    "plt.show()"
   ]
  },
  {
   "cell_type": "code",
   "execution_count": 18,
   "id": "adcf6631",
   "metadata": {
    "id": "adcf6631",
    "outputId": "ab48b729-28f4-4e88-e854-8132290cb485"
   },
   "outputs": [
    {
     "data": {
      "image/png": "[encoded data removed]",
      "text/plain": [
       "<Figure size 455.2x288 with 2 Axes>"
      ]
     },
     "metadata": {
      "needs_background": "light"
     },
     "output_type": "display_data"
    }
   ],
   "source": [
    "g = sns.catplot(x=\"sex\", y=\"total_bill\",\n",
    "hue=\"smoker\", col=\"time\",\n",
    "data=tips, kind=\"bar\",\n",
    "height=4, aspect=.7)"
   ]
  },
  {
   "cell_type": "markdown",
   "id": "0d67614d",
   "metadata": {
    "id": "0d67614d"
   },
   "source": [
    "### pointolot\n",
    "\n",
    "pointplot는 산점도 점의 위치에 따른 숫자 변수의 중심 경향(기본 mean) 추정치를 나타내며 오차 막대를 사용하여 해당 추정치 주변의 불확실성을 나타낸다.\n",
    "\n",
    "- pointolot는 하나 이상의 범주형 변수의 서로 다른 수준 간의 비교에 초점을 맞추는 데 막대 도표보다 더 유용할 수 있다.  \n",
    "- 한 범주형 변수의 수준 간의 관계가 두 번째 범주형 변수의 수준에 따라 어떻게 변하는지 파악할 수 있다.\n",
    "- 동일한 색조 수준에서 각 점을 연결하는 선을 사용하면 기울기의 차이로 상호 작용을 판단할 수 있으므로 여러 점 또는 막대 그룹의 높이를 비교하는 것보다 차이를 비교하기 쉽다.\n",
    "- 평균(또는 기타 추정량) 값만 표시하면서 많은 경우 범주형 변수의 각 수준에서 값의 분포를 표시하는 것이 더 유익할 수 있다."
   ]
  },
  {
   "cell_type": "code",
   "execution_count": 19,
   "id": "b7fa21f0",
   "metadata": {
    "id": "b7fa21f0",
    "outputId": "ebb8fa8e-cd12-4831-e7f1-1faa126492a6"
   },
   "outputs": [
    {
     "data": {
      "image/png": "[encoded data removed]",
      "text/plain": [
       "<Figure size 432x288 with 1 Axes>"
      ]
     },
     "metadata": {
      "needs_background": "light"
     },
     "output_type": "display_data"
    }
   ],
   "source": [
    "ax = sns.pointplot(x=\"time\", y=\"total_bill\", hue=\"smoker\",\n",
    "                   data=tips,\n",
    "                   linestyles=[\"-\", \"--\"], dodge=True)"
   ]
  },
  {
   "cell_type": "code",
   "execution_count": 20,
   "id": "717428ce",
   "metadata": {
    "id": "717428ce",
    "outputId": "901b2ae0-0d18-4dd0-d4ab-bc91fac33c20"
   },
   "outputs": [
    {
     "data": {
      "image/png": "[encoded data removed]",
      "text/plain": [
       "<Figure size 432x288 with 1 Axes>"
      ]
     },
     "metadata": {
      "needs_background": "light"
     },
     "output_type": "display_data"
    }
   ],
   "source": [
    "# 각 점을 연결하는 선을 그리지 않는다.\n",
    "ax = sns.pointplot(x=\"tip\", y=\"day\", data=tips, join=False, order=['Thur','Fri','Sat','Sun'])"
   ]
  },
  {
   "cell_type": "code",
   "execution_count": 21,
   "id": "7fdb67e6",
   "metadata": {
    "id": "7fdb67e6",
    "outputId": "8430128c-0a73-4585-94ac-5ae0f8f8fb66"
   },
   "outputs": [
    {
     "data": {
      "image/png": "[encoded data removed]",
      "text/plain": [
       "<Figure size 432x288 with 1 Axes>"
      ]
     },
     "metadata": {
      "needs_background": "light"
     },
     "output_type": "display_data"
    }
   ],
   "source": [
    "# 평균 대신에 median을 중심위치 측도로 표시함\n",
    "from numpy import median\n",
    "ax = sns.pointplot(x=\"day\", y=\"tip\", data=tips, estimator=median, order=['Thur','Fri','Sat','Sun'])"
   ]
  },
  {
   "cell_type": "markdown",
   "id": "56d94485",
   "metadata": {},
   "source": [
    "# 막대그래프 실습\n",
    "1. 타이타닉 데이터 셋을 읽어 들인다.\n",
    "```\n",
    "titanic = pd.read_csv('./data/titanic.csv')\n",
    "titanic.info()\n",
    "```\n",
    "\n",
    "2. 선실 등급(Pclass)별 생존율을 막대그래프로 그려 비교하시오.\n",
    "\n",
    "3. 선실 등급, 성별에 따라서 생존율을 병렬 막대 그래프로 비교하시오.\n",
    "\n",
    "4. 선실 등급별 남여 성별에 따른 생존율을 point plot으로 시각화하시오."
   ]
  },
  {
   "cell_type": "code",
   "execution_count": null,
   "id": "2633df65",
   "metadata": {},
   "outputs": [],
   "source": []
  }
 ],
 "metadata": {
  "colab": {
   "name": "막대그래프.ipynb",
   "provenance": []
  },
  "kernelspec": {
   "display_name": "Python 3",
   "language": "python",
   "name": "python3"
  },
  "language_info": {
   "codemirror_mode": {
    "name": "ipython",
    "version": 3
   },
   "file_extension": ".py",
   "mimetype": "text/x-python",
   "name": "python",
   "nbconvert_exporter": "python",
   "pygments_lexer": "ipython3",
   "version": "3.8.8"
  }
 },
 "nbformat": 4,
 "nbformat_minor": 5
}
